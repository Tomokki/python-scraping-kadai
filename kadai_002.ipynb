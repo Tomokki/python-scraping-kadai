{
  "nbformat": 4,
  "nbformat_minor": 0,
  "metadata": {
    "colab": {
      "provenance": [],
      "authorship_tag": "ABX9TyNESZ9VwujHTnsXdOKoMv0p",
      "include_colab_link": true
    },
    "kernelspec": {
      "name": "python3",
      "display_name": "Python 3"
    },
    "language_info": {
      "name": "python"
    }
  },
  "cells": [
    {
      "cell_type": "markdown",
      "metadata": {
        "id": "view-in-github",
        "colab_type": "text"
      },
      "source": [
        "<a href=\"https://colab.research.google.com/github/Tomokki/python-scraping-kadai/blob/main/kadai_002.ipynb\" target=\"_parent\"><img src=\"https://colab.research.google.com/assets/colab-badge.svg\" alt=\"Open In Colab\"/></a>"
      ]
    },
    {
      "cell_type": "code",
      "source": [
        "import requests\n",
        "import pprint\n",
        "from getpass import getpass\n",
        "\n",
        "\n",
        "api_key = getpass('APIキーを入力してください: ')\n",
        "search_word = input('検索する駅を入力してください: ')\n",
        "\n",
        "\n",
        "# 入力された駅の緯度経度を取得するAPIエンドポイントURL（APIアクセス接続先）\n",
        "url = 'https://maps.googleapis.com/maps/api/geocode/json'\n",
        "# レストラン情報を取得するためのAPIエンドポイントURL（APIアクセス接続先）\n",
        "url = 'https://maps.googleapis.com/maps/api/place/nearbysearch/json'\n",
        "\n",
        "# 駅名から緯度経度データを取得\n",
        "response = requests.get(\n",
        "    url,\n",
        "    params={\n",
        "        'key': api_key,  # APIキーをパラメータに追加\n",
        "        'address': search_word, #駅を追加\n",
        "    }\n",
        ")\n",
        "# レストランデータを取得\n",
        "response = requests.get(\n",
        "    url,\n",
        "    params={\n",
        "        'key': api_key,  # APIキーをパラメータに追加\n",
        "        'location':latitude, #緯度\n",
        "        'location':longitude, #経度\n",
        "        'radius': 500, #半径500m以内\n",
        "        'type': 'restaurant', #レストラン検索\n",
        "    }\n",
        ")\n",
        "\n",
        "for place in places_data['results']:\n",
        "            restaurant_name = place['name']\n",
        "            rating = place.get('rating')\n",
        "            address = place.get('vicinity')\n",
        "\n",
        "            print(f'レストラン名: {restaurant_name}')\n",
        "            print(f'評価: {rating}')\n",
        "            print(f'住所: {address}')"
      ],
      "metadata": {
        "colab": {
          "base_uri": "https://localhost:8080/"
        },
        "id": "Fo3NuqiLYQ3t",
        "outputId": "09c7c3fb-401c-45a1-efcf-bb62e5794fb6"
      },
      "execution_count": 16,
      "outputs": [
        {
          "output_type": "stream",
          "name": "stdout",
          "text": [
            "APIキーを入力してください: ··········\n",
            "検索する駅を入力してください: 秋葉原\n",
            "レストラン名: Hakata Furyu Akihabara flagship shop\n",
            "評価: 3.9\n",
            "住所: 3-chōme-15-6 Sotokanda, Chiyoda City\n",
            "レストラン名: La Testa Dura\n",
            "評価: 4.3\n",
            "住所: 加納ビル 1階, 1-chōme-13−８ Kanda Sudachō, Chiyoda City\n",
            "レストラン名: Ibukiya Seimen\n",
            "評価: 3.5\n",
            "住所: 秋葉原UDXレストラン街アキバイチ 2F, 4-chōme-14−１ Sotokanda, Chiyoda City\n",
            "レストラン名: Denny's\n",
            "評価: 3.7\n",
            "住所: ダイハツ秋葉原ビル, ２Ｆ, 1-chōme-8-3 Kanda Sakumachō, Chiyoda City\n",
            "レストラン名: Starbucks Coffee - atré Akihabara 1\n",
            "評価: 3.9\n",
            "住所: アトレ秋葉原 １, 1-chōme-17−６ Sotokanda, Chiyoda City\n",
            "レストラン名: Pepper Lunch\n",
            "評価: 3.7\n",
            "住所: 半田ビル 1F, 1-chōme-15−１ Sotokanda, Chiyoda City\n",
            "レストラン名: Tenyoshi\n",
            "評価: 4.1\n",
            "住所: 3-10 Kanda Neribeichō, Chiyoda City\n",
            "レストラン名: Roast Beef Ōno Akihabara\n",
            "評価: 4.6\n",
            "住所: 土屋ビル 地下1階, 1-chōme-2−３ Sotokanda, Chiyoda City\n",
            "レストラン名: Shintagoto Soba\n",
            "評価: 3.5\n",
            "住所: 秋葉原駅, 改札内 4階 総武線下り6番ホーム中ほど, 1-chōme-17−６ Sotokanda, Chiyoda City\n",
            "レストラン名: Kanda Yabu Soba\n",
            "評価: 4\n",
            "住所: ２丁目-１０ 神田淡路町, 千代田区\n",
            "レストラン名: Carl's Jr.\n",
            "評価: 4.1\n",
            "住所: 秋葉原Silビル 1階, 4-chōme-4−３ Sotokanda, Chiyoda City\n",
            "レストラン名: Uzushio\n",
            "評価: 2.9\n",
            "住所: 1-chōme-17-6 Sotokanda, Chiyoda City\n",
            "レストラン名: Gansen\n",
            "評価: 3.9\n",
            "住所: 白銀会館 Ｂ１Ｆ, 3-chōme-10−１０ Sotokanda, Chiyoda City\n",
            "レストラン名: Kasugatei Akihabara\n",
            "評価: 4\n",
            "住所: 大石ビル 1F, 3-chōme-1−１２ Sotokanda, Chiyoda City\n",
            "レストラン名: Karaoke Pasela Akihabara Denkigai\n",
            "評価: 4\n",
            "住所: パセラリゾーツ秋葉原電気街店１Ｆ, 1-chōme-13−２ Sotokanda, Chiyoda City\n",
            "レストラン名: Irori-an Kiraku Akihabara\n",
            "評価: 3.6\n",
            "住所: １−９ Kanda Hanaokachō, Chiyoda City千代田区\n",
            "レストラン名: Blossom & Bouquet\n",
            "評価: 3.6\n",
            "住所: 秋葉原UDXビル 5F, 4-chōme-14−１ Sotokanda, Chiyoda City\n",
            "レストラン名: Niku no Mansei\n",
            "評価: 4.1\n",
            "住所: 2-chōme-21 Kanda Sudachō, Chiyoda City\n",
            "レストラン名: Karaoke Pasela Akihabara Showa-dori\n",
            "評価: 3.9\n",
            "住所: パセラリゾーツ 秋葉原昭和通り館 １F, 2-chōme-１０ Kanda Sakumachō, Chiyoda City\n",
            "レストラン名: Fuji Soba\n",
            "評価: 3.4\n",
            "住所: 1-2 Kanda Izumichō, Chiyoda City\n"
          ]
        }
      ]
    }
  ]
}